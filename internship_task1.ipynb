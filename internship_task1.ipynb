{
 "cells": [
  {
   "cell_type": "code",
   "execution_count": 38,
   "id": "5bbde002-838a-4245-9f38-9a1c81661056",
   "metadata": {},
   "outputs": [],
   "source": [
    "import pandas as pd\n",
    "import numpy as np\n",
    "import matplotlib.pyplot as plt\n",
    "import seaborn as sns"
   ]
  },
  {
   "cell_type": "code",
   "execution_count": 39,
   "id": "4fe1fa78-f5e9-4bb2-8075-a3d39ab72275",
   "metadata": {},
   "outputs": [
    {
     "data": {
      "text/html": [
       "<div>\n",
       "<style scoped>\n",
       "    .dataframe tbody tr th:only-of-type {\n",
       "        vertical-align: middle;\n",
       "    }\n",
       "\n",
       "    .dataframe tbody tr th {\n",
       "        vertical-align: top;\n",
       "    }\n",
       "\n",
       "    .dataframe thead th {\n",
       "        text-align: right;\n",
       "    }\n",
       "</style>\n",
       "<table border=\"1\" class=\"dataframe\">\n",
       "  <thead>\n",
       "    <tr style=\"text-align: right;\">\n",
       "      <th></th>\n",
       "      <th>index</th>\n",
       "      <th>Order ID</th>\n",
       "      <th>Cust ID</th>\n",
       "      <th>Gender</th>\n",
       "      <th>Age</th>\n",
       "      <th>age group</th>\n",
       "      <th>year</th>\n",
       "      <th>Channel</th>\n",
       "      <th>SKU</th>\n",
       "      <th>Category</th>\n",
       "      <th>Size</th>\n",
       "      <th>Qty</th>\n",
       "      <th>currency</th>\n",
       "      <th>Amount</th>\n",
       "      <th>ship-city</th>\n",
       "      <th>ship-state</th>\n",
       "      <th>ship-postal-code</th>\n",
       "      <th>ship-country</th>\n",
       "      <th>B2B</th>\n",
       "    </tr>\n",
       "  </thead>\n",
       "  <tbody>\n",
       "    <tr>\n",
       "      <th>0</th>\n",
       "      <td>1.0</td>\n",
       "      <td>171-1029312-3038738</td>\n",
       "      <td>1029312.0</td>\n",
       "      <td>Women</td>\n",
       "      <td>44.0</td>\n",
       "      <td>adult</td>\n",
       "      <td>2018.0</td>\n",
       "      <td>Myntra</td>\n",
       "      <td>JNE1233-BLUE-KR-031-XXL</td>\n",
       "      <td>kurta</td>\n",
       "      <td>XXL</td>\n",
       "      <td>1.0</td>\n",
       "      <td>INR</td>\n",
       "      <td>376.0</td>\n",
       "      <td>MOHALI</td>\n",
       "      <td>PUNJAB</td>\n",
       "      <td>140301.0</td>\n",
       "      <td>IN</td>\n",
       "      <td>False</td>\n",
       "    </tr>\n",
       "    <tr>\n",
       "      <th>1</th>\n",
       "      <td>2.0</td>\n",
       "      <td>405-2183842-2225946</td>\n",
       "      <td>2183842.0</td>\n",
       "      <td>Women</td>\n",
       "      <td>29.0</td>\n",
       "      <td>Teenager</td>\n",
       "      <td>2018.0</td>\n",
       "      <td>Ajio</td>\n",
       "      <td>SET414-KR-NP-L</td>\n",
       "      <td>Set</td>\n",
       "      <td>L</td>\n",
       "      <td>1.0</td>\n",
       "      <td>INR</td>\n",
       "      <td>1449.0</td>\n",
       "      <td>GURUGRAM</td>\n",
       "      <td>HARYANA</td>\n",
       "      <td>122002.0</td>\n",
       "      <td>IN</td>\n",
       "      <td>False</td>\n",
       "    </tr>\n",
       "    <tr>\n",
       "      <th>2</th>\n",
       "      <td>3.0</td>\n",
       "      <td>171-1641533-8921966</td>\n",
       "      <td>1641533.0</td>\n",
       "      <td>Women</td>\n",
       "      <td>67.0</td>\n",
       "      <td>senior</td>\n",
       "      <td>2018.0</td>\n",
       "      <td>Myntra</td>\n",
       "      <td>SET261-KR-PP-S</td>\n",
       "      <td>Set</td>\n",
       "      <td>S</td>\n",
       "      <td>1.0</td>\n",
       "      <td>INR</td>\n",
       "      <td>453.0</td>\n",
       "      <td>KOLKATA</td>\n",
       "      <td>WEST BENGAL</td>\n",
       "      <td>700029.0</td>\n",
       "      <td>IN</td>\n",
       "      <td>False</td>\n",
       "    </tr>\n",
       "    <tr>\n",
       "      <th>3</th>\n",
       "      <td>4.0</td>\n",
       "      <td>404-7490807-6300351</td>\n",
       "      <td>7490807.0</td>\n",
       "      <td>Women</td>\n",
       "      <td>20.0</td>\n",
       "      <td>Teenager</td>\n",
       "      <td>2018.0</td>\n",
       "      <td>Amazon</td>\n",
       "      <td>SET110-KR-PP-M</td>\n",
       "      <td>Set</td>\n",
       "      <td>M</td>\n",
       "      <td>1.0</td>\n",
       "      <td>INR</td>\n",
       "      <td>729.0</td>\n",
       "      <td>THANJAVUR</td>\n",
       "      <td>TAMIL NADU</td>\n",
       "      <td>613007.0</td>\n",
       "      <td>IN</td>\n",
       "      <td>False</td>\n",
       "    </tr>\n",
       "    <tr>\n",
       "      <th>4</th>\n",
       "      <td>5.0</td>\n",
       "      <td>403-9293516-4577154</td>\n",
       "      <td>9293516.0</td>\n",
       "      <td>Women</td>\n",
       "      <td>62.0</td>\n",
       "      <td>senior</td>\n",
       "      <td>2018.0</td>\n",
       "      <td>Myntra</td>\n",
       "      <td>JNE2294-KR-A-XXL</td>\n",
       "      <td>kurta</td>\n",
       "      <td>XXL</td>\n",
       "      <td>1.0</td>\n",
       "      <td>INR</td>\n",
       "      <td>544.0</td>\n",
       "      <td>GURUGRAM</td>\n",
       "      <td>HARYANA</td>\n",
       "      <td>122001.0</td>\n",
       "      <td>IN</td>\n",
       "      <td>False</td>\n",
       "    </tr>\n",
       "  </tbody>\n",
       "</table>\n",
       "</div>"
      ],
      "text/plain": [
       "   index             Order ID    Cust ID Gender   Age age group    year  \\\n",
       "0    1.0  171-1029312-3038738  1029312.0  Women  44.0     adult  2018.0   \n",
       "1    2.0  405-2183842-2225946  2183842.0  Women  29.0  Teenager  2018.0   \n",
       "2    3.0  171-1641533-8921966  1641533.0  Women  67.0    senior  2018.0   \n",
       "3    4.0  404-7490807-6300351  7490807.0  Women  20.0  Teenager  2018.0   \n",
       "4    5.0  403-9293516-4577154  9293516.0  Women  62.0    senior  2018.0   \n",
       "\n",
       "  Channel                       SKU Category Size  Qty currency  Amount  \\\n",
       "0   Myntra  JNE1233-BLUE-KR-031-XXL    kurta  XXL  1.0      INR   376.0   \n",
       "1     Ajio           SET414-KR-NP-L      Set    L  1.0      INR  1449.0   \n",
       "2   Myntra           SET261-KR-PP-S      Set    S  1.0      INR   453.0   \n",
       "3   Amazon           SET110-KR-PP-M      Set    M  1.0      INR   729.0   \n",
       "4   Myntra         JNE2294-KR-A-XXL    kurta  XXL  1.0      INR   544.0   \n",
       "\n",
       "   ship-city   ship-state  ship-postal-code ship-country    B2B  \n",
       "0     MOHALI       PUNJAB          140301.0           IN  False  \n",
       "1   GURUGRAM      HARYANA          122002.0           IN  False  \n",
       "2    KOLKATA  WEST BENGAL          700029.0           IN  False  \n",
       "3  THANJAVUR   TAMIL NADU          613007.0           IN  False  \n",
       "4   GURUGRAM      HARYANA          122001.0           IN  False  "
      ]
     },
     "execution_count": 39,
     "metadata": {},
     "output_type": "execute_result"
    }
   ],
   "source": [
    "df=pd.read_csv(\"internship.csv\")\n",
    "df.head(5)"
   ]
  },
  {
   "cell_type": "code",
   "execution_count": 40,
   "id": "87e2f102-00ef-4f5c-aa7c-2c781d6aec4b",
   "metadata": {},
   "outputs": [
    {
     "data": {
      "text/html": [
       "<div>\n",
       "<style scoped>\n",
       "    .dataframe tbody tr th:only-of-type {\n",
       "        vertical-align: middle;\n",
       "    }\n",
       "\n",
       "    .dataframe tbody tr th {\n",
       "        vertical-align: top;\n",
       "    }\n",
       "\n",
       "    .dataframe thead th {\n",
       "        text-align: right;\n",
       "    }\n",
       "</style>\n",
       "<table border=\"1\" class=\"dataframe\">\n",
       "  <thead>\n",
       "    <tr style=\"text-align: right;\">\n",
       "      <th></th>\n",
       "      <th>index</th>\n",
       "      <th>Order ID</th>\n",
       "      <th>Cust ID</th>\n",
       "      <th>Gender</th>\n",
       "      <th>Age</th>\n",
       "      <th>age group</th>\n",
       "      <th>year</th>\n",
       "      <th>Channel</th>\n",
       "      <th>SKU</th>\n",
       "      <th>Category</th>\n",
       "      <th>Size</th>\n",
       "      <th>Qty</th>\n",
       "      <th>currency</th>\n",
       "      <th>Amount</th>\n",
       "      <th>ship-city</th>\n",
       "      <th>ship-state</th>\n",
       "      <th>ship-postal-code</th>\n",
       "      <th>ship-country</th>\n",
       "      <th>B2B</th>\n",
       "    </tr>\n",
       "  </thead>\n",
       "  <tbody>\n",
       "    <tr>\n",
       "      <th>31045</th>\n",
       "      <td>31046.0</td>\n",
       "      <td>405-1423498-9705162</td>\n",
       "      <td>1423498.0</td>\n",
       "      <td>Men</td>\n",
       "      <td>46.0</td>\n",
       "      <td>adult</td>\n",
       "      <td>2024.0</td>\n",
       "      <td>Amazon</td>\n",
       "      <td>JNE3568-KR-M</td>\n",
       "      <td>kurta</td>\n",
       "      <td>M</td>\n",
       "      <td>1.0</td>\n",
       "      <td>INR</td>\n",
       "      <td>399.0</td>\n",
       "      <td>DHULE</td>\n",
       "      <td>MAHARASHTRA</td>\n",
       "      <td>424006.0</td>\n",
       "      <td>IN</td>\n",
       "      <td>False</td>\n",
       "    </tr>\n",
       "    <tr>\n",
       "      <th>31046</th>\n",
       "      <td>31047.0</td>\n",
       "      <td>408-4694875-8249153</td>\n",
       "      <td>4694875.0</td>\n",
       "      <td>Men</td>\n",
       "      <td>36.0</td>\n",
       "      <td>adult</td>\n",
       "      <td>2024.0</td>\n",
       "      <td>Flipkart</td>\n",
       "      <td>J0341-DR-XXXL</td>\n",
       "      <td>Western Dress</td>\n",
       "      <td>3XL</td>\n",
       "      <td>1.0</td>\n",
       "      <td>INR</td>\n",
       "      <td>791.0</td>\n",
       "      <td>WARANGAL</td>\n",
       "      <td>TELANGANA</td>\n",
       "      <td>506001.0</td>\n",
       "      <td>IN</td>\n",
       "      <td>False</td>\n",
       "    </tr>\n",
       "    <tr>\n",
       "      <th>31047</th>\n",
       "      <td>NaN</td>\n",
       "      <td>NaN</td>\n",
       "      <td>NaN</td>\n",
       "      <td>NaN</td>\n",
       "      <td>NaN</td>\n",
       "      <td>Teenager</td>\n",
       "      <td>2024.0</td>\n",
       "      <td>NaN</td>\n",
       "      <td>NaN</td>\n",
       "      <td>NaN</td>\n",
       "      <td>NaN</td>\n",
       "      <td>NaN</td>\n",
       "      <td>NaN</td>\n",
       "      <td>NaN</td>\n",
       "      <td>NaN</td>\n",
       "      <td>NaN</td>\n",
       "      <td>NaN</td>\n",
       "      <td>NaN</td>\n",
       "      <td>NaN</td>\n",
       "    </tr>\n",
       "    <tr>\n",
       "      <th>31048</th>\n",
       "      <td>NaN</td>\n",
       "      <td>NaN</td>\n",
       "      <td>NaN</td>\n",
       "      <td>NaN</td>\n",
       "      <td>NaN</td>\n",
       "      <td>Teenager</td>\n",
       "      <td>NaN</td>\n",
       "      <td>NaN</td>\n",
       "      <td>NaN</td>\n",
       "      <td>NaN</td>\n",
       "      <td>NaN</td>\n",
       "      <td>NaN</td>\n",
       "      <td>NaN</td>\n",
       "      <td>NaN</td>\n",
       "      <td>NaN</td>\n",
       "      <td>NaN</td>\n",
       "      <td>NaN</td>\n",
       "      <td>NaN</td>\n",
       "      <td>NaN</td>\n",
       "    </tr>\n",
       "    <tr>\n",
       "      <th>31049</th>\n",
       "      <td>NaN</td>\n",
       "      <td>NaN</td>\n",
       "      <td>NaN</td>\n",
       "      <td>NaN</td>\n",
       "      <td>NaN</td>\n",
       "      <td>Teenager</td>\n",
       "      <td>NaN</td>\n",
       "      <td>NaN</td>\n",
       "      <td>NaN</td>\n",
       "      <td>NaN</td>\n",
       "      <td>NaN</td>\n",
       "      <td>NaN</td>\n",
       "      <td>NaN</td>\n",
       "      <td>NaN</td>\n",
       "      <td>NaN</td>\n",
       "      <td>NaN</td>\n",
       "      <td>NaN</td>\n",
       "      <td>NaN</td>\n",
       "      <td>NaN</td>\n",
       "    </tr>\n",
       "  </tbody>\n",
       "</table>\n",
       "</div>"
      ],
      "text/plain": [
       "         index             Order ID    Cust ID Gender   Age age group    year  \\\n",
       "31045  31046.0  405-1423498-9705162  1423498.0    Men  46.0     adult  2024.0   \n",
       "31046  31047.0  408-4694875-8249153  4694875.0    Men  36.0     adult  2024.0   \n",
       "31047      NaN                  NaN        NaN    NaN   NaN  Teenager  2024.0   \n",
       "31048      NaN                  NaN        NaN    NaN   NaN  Teenager     NaN   \n",
       "31049      NaN                  NaN        NaN    NaN   NaN  Teenager     NaN   \n",
       "\n",
       "       Channel             SKU       Category Size  Qty currency  Amount  \\\n",
       "31045    Amazon   JNE3568-KR-M          kurta    M  1.0      INR   399.0   \n",
       "31046  Flipkart  J0341-DR-XXXL  Western Dress  3XL  1.0      INR   791.0   \n",
       "31047       NaN            NaN            NaN  NaN  NaN      NaN     NaN   \n",
       "31048       NaN            NaN            NaN  NaN  NaN      NaN     NaN   \n",
       "31049       NaN            NaN            NaN  NaN  NaN      NaN     NaN   \n",
       "\n",
       "      ship-city   ship-state  ship-postal-code ship-country    B2B  \n",
       "31045     DHULE  MAHARASHTRA          424006.0           IN  False  \n",
       "31046  WARANGAL    TELANGANA          506001.0           IN  False  \n",
       "31047       NaN          NaN               NaN          NaN    NaN  \n",
       "31048       NaN          NaN               NaN          NaN    NaN  \n",
       "31049       NaN          NaN               NaN          NaN    NaN  "
      ]
     },
     "execution_count": 40,
     "metadata": {},
     "output_type": "execute_result"
    }
   ],
   "source": [
    "df.tail(5)"
   ]
  },
  {
   "cell_type": "code",
   "execution_count": 41,
   "id": "01dc8bac-f4c3-4c7e-8804-78190e600b3f",
   "metadata": {},
   "outputs": [
    {
     "data": {
      "text/plain": [
       "Index(['index', 'Order ID', 'Cust ID', 'Gender', 'Age', 'age group', 'year',\n",
       "       'Channel ', 'SKU', 'Category', 'Size', 'Qty', 'currency', 'Amount',\n",
       "       'ship-city', 'ship-state', 'ship-postal-code', 'ship-country', 'B2B'],\n",
       "      dtype='object')"
      ]
     },
     "execution_count": 41,
     "metadata": {},
     "output_type": "execute_result"
    }
   ],
   "source": [
    "df.columns"
   ]
  },
  {
   "cell_type": "code",
   "execution_count": 42,
   "id": "fdb7446d-62b7-4ae5-bf83-3e1d3664a181",
   "metadata": {},
   "outputs": [
    {
     "name": "stdout",
     "output_type": "stream",
     "text": [
      "<class 'pandas.core.frame.DataFrame'>\n",
      "RangeIndex: 31050 entries, 0 to 31049\n",
      "Data columns (total 19 columns):\n",
      " #   Column            Non-Null Count  Dtype  \n",
      "---  ------            --------------  -----  \n",
      " 0   index             31047 non-null  float64\n",
      " 1   Order ID          31047 non-null  object \n",
      " 2   Cust ID           31047 non-null  float64\n",
      " 3   Gender            31047 non-null  object \n",
      " 4   Age               31047 non-null  float64\n",
      " 5   age group         31050 non-null  object \n",
      " 6   year              31048 non-null  float64\n",
      " 7   Channel           31047 non-null  object \n",
      " 8   SKU               31047 non-null  object \n",
      " 9   Category          31047 non-null  object \n",
      " 10  Size              31047 non-null  object \n",
      " 11  Qty               31047 non-null  float64\n",
      " 12  currency          31047 non-null  object \n",
      " 13  Amount            31047 non-null  float64\n",
      " 14  ship-city         31047 non-null  object \n",
      " 15  ship-state        31047 non-null  object \n",
      " 16  ship-postal-code  31047 non-null  float64\n",
      " 17  ship-country      31047 non-null  object \n",
      " 18  B2B               31047 non-null  object \n",
      "dtypes: float64(7), object(12)\n",
      "memory usage: 4.5+ MB\n"
     ]
    }
   ],
   "source": [
    "df.info()"
   ]
  },
  {
   "cell_type": "code",
   "execution_count": 43,
   "id": "c95dd514-d7c7-45a2-b2e5-5aece5476136",
   "metadata": {},
   "outputs": [
    {
     "data": {
      "text/html": [
       "<div>\n",
       "<style scoped>\n",
       "    .dataframe tbody tr th:only-of-type {\n",
       "        vertical-align: middle;\n",
       "    }\n",
       "\n",
       "    .dataframe tbody tr th {\n",
       "        vertical-align: top;\n",
       "    }\n",
       "\n",
       "    .dataframe thead th {\n",
       "        text-align: right;\n",
       "    }\n",
       "</style>\n",
       "<table border=\"1\" class=\"dataframe\">\n",
       "  <thead>\n",
       "    <tr style=\"text-align: right;\">\n",
       "      <th></th>\n",
       "      <th>index</th>\n",
       "      <th>Cust ID</th>\n",
       "      <th>Age</th>\n",
       "      <th>year</th>\n",
       "      <th>Qty</th>\n",
       "      <th>Amount</th>\n",
       "      <th>ship-postal-code</th>\n",
       "    </tr>\n",
       "  </thead>\n",
       "  <tbody>\n",
       "    <tr>\n",
       "      <th>count</th>\n",
       "      <td>31047.00000</td>\n",
       "      <td>3.104700e+04</td>\n",
       "      <td>31047.000000</td>\n",
       "      <td>31048.000000</td>\n",
       "      <td>31047.000000</td>\n",
       "      <td>31047.000000</td>\n",
       "      <td>31047.000000</td>\n",
       "    </tr>\n",
       "    <tr>\n",
       "      <th>mean</th>\n",
       "      <td>15524.00000</td>\n",
       "      <td>4.936824e+06</td>\n",
       "      <td>39.496570</td>\n",
       "      <td>2021.167934</td>\n",
       "      <td>1.006120</td>\n",
       "      <td>682.074822</td>\n",
       "      <td>460474.587206</td>\n",
       "    </tr>\n",
       "    <tr>\n",
       "      <th>std</th>\n",
       "      <td>8962.64124</td>\n",
       "      <td>2.900678e+06</td>\n",
       "      <td>15.117233</td>\n",
       "      <td>2.016475</td>\n",
       "      <td>0.094088</td>\n",
       "      <td>268.582173</td>\n",
       "      <td>198116.733009</td>\n",
       "    </tr>\n",
       "    <tr>\n",
       "      <th>min</th>\n",
       "      <td>1.00000</td>\n",
       "      <td>8.950000e+02</td>\n",
       "      <td>18.000000</td>\n",
       "      <td>2018.000000</td>\n",
       "      <td>1.000000</td>\n",
       "      <td>229.000000</td>\n",
       "      <td>110001.000000</td>\n",
       "    </tr>\n",
       "    <tr>\n",
       "      <th>25%</th>\n",
       "      <td>7762.50000</td>\n",
       "      <td>2.416471e+06</td>\n",
       "      <td>28.000000</td>\n",
       "      <td>2020.000000</td>\n",
       "      <td>1.000000</td>\n",
       "      <td>486.000000</td>\n",
       "      <td>313001.000000</td>\n",
       "    </tr>\n",
       "    <tr>\n",
       "      <th>50%</th>\n",
       "      <td>15524.00000</td>\n",
       "      <td>4.909885e+06</td>\n",
       "      <td>37.000000</td>\n",
       "      <td>2021.000000</td>\n",
       "      <td>1.000000</td>\n",
       "      <td>646.000000</td>\n",
       "      <td>500028.000000</td>\n",
       "    </tr>\n",
       "    <tr>\n",
       "      <th>75%</th>\n",
       "      <td>23285.50000</td>\n",
       "      <td>7.454182e+06</td>\n",
       "      <td>47.000000</td>\n",
       "      <td>2023.000000</td>\n",
       "      <td>1.000000</td>\n",
       "      <td>794.000000</td>\n",
       "      <td>600040.000000</td>\n",
       "    </tr>\n",
       "    <tr>\n",
       "      <th>max</th>\n",
       "      <td>31047.00000</td>\n",
       "      <td>9.999233e+06</td>\n",
       "      <td>78.000000</td>\n",
       "      <td>2024.000000</td>\n",
       "      <td>5.000000</td>\n",
       "      <td>3036.000000</td>\n",
       "      <td>855117.000000</td>\n",
       "    </tr>\n",
       "  </tbody>\n",
       "</table>\n",
       "</div>"
      ],
      "text/plain": [
       "             index       Cust ID           Age          year           Qty  \\\n",
       "count  31047.00000  3.104700e+04  31047.000000  31048.000000  31047.000000   \n",
       "mean   15524.00000  4.936824e+06     39.496570   2021.167934      1.006120   \n",
       "std     8962.64124  2.900678e+06     15.117233      2.016475      0.094088   \n",
       "min        1.00000  8.950000e+02     18.000000   2018.000000      1.000000   \n",
       "25%     7762.50000  2.416471e+06     28.000000   2020.000000      1.000000   \n",
       "50%    15524.00000  4.909885e+06     37.000000   2021.000000      1.000000   \n",
       "75%    23285.50000  7.454182e+06     47.000000   2023.000000      1.000000   \n",
       "max    31047.00000  9.999233e+06     78.000000   2024.000000      5.000000   \n",
       "\n",
       "             Amount  ship-postal-code  \n",
       "count  31047.000000      31047.000000  \n",
       "mean     682.074822     460474.587206  \n",
       "std      268.582173     198116.733009  \n",
       "min      229.000000     110001.000000  \n",
       "25%      486.000000     313001.000000  \n",
       "50%      646.000000     500028.000000  \n",
       "75%      794.000000     600040.000000  \n",
       "max     3036.000000     855117.000000  "
      ]
     },
     "execution_count": 43,
     "metadata": {},
     "output_type": "execute_result"
    }
   ],
   "source": [
    "df.describe()"
   ]
  },
  {
   "cell_type": "code",
   "execution_count": 44,
   "id": "8fb3e23b-3ebc-4723-b597-238b63e52fd7",
   "metadata": {},
   "outputs": [
    {
     "data": {
      "text/plain": [
       "np.int64(1)"
      ]
     },
     "execution_count": 44,
     "metadata": {},
     "output_type": "execute_result"
    }
   ],
   "source": [
    "df.duplicated().sum()"
   ]
  },
  {
   "cell_type": "code",
   "execution_count": 45,
   "id": "b358d29f-94a0-49f3-855a-c4af149561ad",
   "metadata": {},
   "outputs": [
    {
     "data": {
      "text/plain": [
       "index               3\n",
       "Order ID            3\n",
       "Cust ID             3\n",
       "Gender              3\n",
       "Age                 3\n",
       "age group           0\n",
       "year                2\n",
       "Channel             3\n",
       "SKU                 3\n",
       "Category            3\n",
       "Size                3\n",
       "Qty                 3\n",
       "currency            3\n",
       "Amount              3\n",
       "ship-city           3\n",
       "ship-state          3\n",
       "ship-postal-code    3\n",
       "ship-country        3\n",
       "B2B                 3\n",
       "dtype: int64"
      ]
     },
     "execution_count": 45,
     "metadata": {},
     "output_type": "execute_result"
    }
   ],
   "source": [
    "df.isna().sum()"
   ]
  },
  {
   "cell_type": "code",
   "execution_count": 46,
   "id": "039f91c7-9229-46d5-8553-5c29a123d569",
   "metadata": {},
   "outputs": [
    {
     "name": "stdout",
     "output_type": "stream",
     "text": [
      "[44. 29. 67. 20. 62. 49. 23. 70. 75. 43. 76. 45. 18. 52. 30. 48. 24. 46.\n",
      " 31. 19. 37. 77. 26. 40. 38. 39. 73. 41. 35. 72. 22. 64. 25. 27. 21. 58.\n",
      " 47. 42. 34. 36. 32. 55. 59. 33. 66. 60. 78. 61. 71. 28. 57. 50. 63. 56.\n",
      " 74. 53. 69. 68. 65. 54. 51. nan]\n",
      "\n",
      " Total no of unique age: 61\n"
     ]
    }
   ],
   "source": [
    "print(df['Age'].unique())\n",
    "print(\"\\n Total no of unique age:\",df['Age'].nunique())"
   ]
  },
  {
   "cell_type": "code",
   "execution_count": 47,
   "id": "0da1498a-54bb-4efd-99d1-b7e08cbf5f17",
   "metadata": {},
   "outputs": [
    {
     "name": "stdout",
     "output_type": "stream",
     "text": [
      "['adult' 'Teenager' 'senior']\n",
      "\n",
      " Total no of unique age group: 3\n"
     ]
    }
   ],
   "source": [
    "print(df['age group'].unique())\n",
    "print(\"\\n Total no of unique age group:\",df['age group'].nunique())"
   ]
  },
  {
   "cell_type": "code",
   "execution_count": 48,
   "id": "6296e8b6",
   "metadata": {},
   "outputs": [],
   "source": [
    "df_cleaned = df.drop(columns=['index', 'Order ID', 'Cust ID', 'ship-city', 'ship-state', 'ship-postal-code', 'ship-country'])"
   ]
  },
  {
   "cell_type": "code",
   "execution_count": 49,
   "id": "c38a0013",
   "metadata": {},
   "outputs": [
    {
     "data": {
      "text/plain": [
       "<Figure size 1400x600 with 0 Axes>"
      ]
     },
     "execution_count": 49,
     "metadata": {},
     "output_type": "execute_result"
    },
    {
     "data": {
      "text/plain": [
       "<Figure size 1400x600 with 0 Axes>"
      ]
     },
     "metadata": {},
     "output_type": "display_data"
    }
   ],
   "source": [
    "plt.figure(figsize=(14, 6))"
   ]
  },
  {
   "cell_type": "code",
   "execution_count": 50,
   "id": "95fc455c",
   "metadata": {},
   "outputs": [
    {
     "data": {
      "text/plain": [
       "Text(0, 0.5, 'Frequency')"
      ]
     },
     "execution_count": 50,
     "metadata": {},
     "output_type": "execute_result"
    },
    {
     "data": {
      "image/png": "[encoded data removed]",
      "text/plain": [
       "<Figure size 640x480 with 1 Axes>"
      ]
     },
     "metadata": {},
     "output_type": "display_data"
    }
   ],
   "source": [
    "plt.subplot(1, 2, 1)\n",
    "sns.histplot(df_cleaned['Age'], bins=20, kde=True)\n",
    "plt.title('Age Distribution')\n",
    "plt.xlabel('Age')\n",
    "plt.ylabel('Frequency')"
   ]
  },
  {
   "cell_type": "code",
   "execution_count": 52,
   "id": "6428f74e",
   "metadata": {},
   "outputs": [
    {
     "data": {
      "image/png": "[encoded data removed]",
      "text/plain": [
       "<Figure size 640x480 with 1 Axes>"
      ]
     },
     "metadata": {},
     "output_type": "display_data"
    }
   ],
   "source": [
    "plt.subplot(1, 2, 2)\n",
    "sns.histplot(df_cleaned['Amount'], bins=20, kde=True)\n",
    "plt.title('Amount Distribution')\n",
    "plt.xlabel('Amount')\n",
    "plt.ylabel('Frequency')\n",
    "\n",
    "plt.tight_layout()\n",
    "plt.show()"
   ]
  }
 ],
 "metadata": {
  "kernelspec": {
   "display_name": "Python 3 (ipykernel)",
   "language": "python",
   "name": "python3"
  },
  "language_info": {
   "codemirror_mode": {
    "name": "ipython",
    "version": 3
   },
   "file_extension": ".py",
   "mimetype": "text/x-python",
   "name": "python",
   "nbconvert_exporter": "python",
   "pygments_lexer": "ipython3",
   "version": "3.12.4"
  }
 },
 "nbformat": 4,
 "nbformat_minor": 5
}
